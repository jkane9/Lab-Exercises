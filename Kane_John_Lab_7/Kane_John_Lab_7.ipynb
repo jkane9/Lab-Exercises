{
 "cells": [
  {
   "cell_type": "markdown",
   "id": "4ce51b0a",
   "metadata": {},
   "source": [
    "# Lab 7"
   ]
  },
  {
   "cell_type": "code",
   "execution_count": 10,
   "id": "ba3da1d1",
   "metadata": {},
   "outputs": [
    {
     "data": {
      "image/png": "[encoded data removed]",
      "text/plain": [
       "<Figure size 720x504 with 1 Axes>"
      ]
     },
     "metadata": {
      "needs_background": "light"
     },
     "output_type": "display_data"
    }
   ],
   "source": [
    "import requests \n",
    "import json\n",
    "import csv\n",
    "import pandas as pd\n",
    "from matplotlib import pyplot as plt\n",
    "import numpy as np\n",
    "\n",
    "\n",
    "lat = \"42.8864\"\n",
    "lon = \"-78.8784\"\n",
    "genius = requests.get(f\"https://api.weather.gov/points/{lat},{lon}\")\n",
    "\n",
    "json_file = genius.json()\n",
    "\n",
    "forecast = json_file[\"properties\"][\"forecast\"]\n",
    "new_request = requests.get(forecast)\n",
    "\n",
    "json_1 = new_request.json()\n",
    "\n",
    "full = json_1[\"properties\"][\"periods\"]\n",
    "    \n",
    "weather_data = open(\"weather_data.csv\", \"w\", newline=\"\", encoding=\"utf-8\")\n",
    "csv_writer = csv.writer(weather_data)\n",
    "csv_writer.writerow([\"Name\", \"Temperature\", \"Detailed Forecast\"])\n",
    "\n",
    "for i in full:\n",
    "    name = i[\"name\"]\n",
    "    temp = i[\"temperature\"]\n",
    "    forecast = i[\"detailedForecast\"]\n",
    "    \n",
    "    csv_writer.writerow([name, temp, forecast])\n",
    "        \n",
    "weather_data.close()\n",
    "\n",
    "weather_sheet = pd.read_csv(\"weather_data.csv\")\n",
    "weather_sheet = weather_sheet.sort_values(by=\"Temperature\", ascending = True)\n",
    "\n",
    "weather_df = pd.DataFrame(weather_sheet)\n",
    "\n",
    "plot_name = weather_df[\"Name\"]\n",
    "plot_temp = weather_df[\"Temperature\"]\n",
    "\n",
    "fig = plt.figure(figsize = (10,7))\n",
    "plt.bar(plot_name[0:13], plot_temp[0:13])\n",
    "\n",
    "plt.xlabel(\"Day\")\n",
    "plt.ylabel(\"Temperature\")\n",
    "plt.title(\"Forecast for the next week\")\n",
    "\n",
    "plt.show()"
   ]
  },
  {
   "cell_type": "markdown",
   "id": "08a681cd",
   "metadata": {},
   "source": [
    "# Call 1"
   ]
  },
  {
   "cell_type": "code",
   "execution_count": 15,
   "id": "5644b114",
   "metadata": {
    "collapsed": true
   },
   "outputs": [
    {
     "data": {
      "text/plain": [
       "{'commonName': 'Luxembourg',\n",
       " 'officialName': 'Grand Duchy of Luxembourg',\n",
       " 'countryCode': 'LU',\n",
       " 'region': 'Europe',\n",
       " 'borders': [{'commonName': 'Belgium',\n",
       "   'officialName': 'Kingdom of Belgium',\n",
       "   'countryCode': 'BE',\n",
       "   'region': 'Europe',\n",
       "   'borders': None},\n",
       "  {'commonName': 'France',\n",
       "   'officialName': 'French Republic',\n",
       "   'countryCode': 'FR',\n",
       "   'region': 'Europe',\n",
       "   'borders': None},\n",
       "  {'commonName': 'Germany',\n",
       "   'officialName': 'Federal Republic of Germany',\n",
       "   'countryCode': 'DE',\n",
       "   'region': 'Europe',\n",
       "   'borders': None}]}"
      ]
     },
     "execution_count": 15,
     "metadata": {},
     "output_type": "execute_result"
    }
   ],
   "source": [
    "#API which takes a country and gathers the infromation on it's common name, official name, code, region, and border countries\n",
    "#This also actually prints all the information on the border countries as well\n",
    "\n",
    "countryCode = \"LU\"  #Setting country code for Luxembourg\n",
    "\n",
    "country_info = requests.get(f\"https://date.nager.at/api/v3/CountryInfo/{countryCode}\")  #Requesting the API for the \n",
    "                                                                                        #country info of Luxembourg\n",
    "country_info.json() #Printing the json file for the first call"
   ]
  },
  {
   "cell_type": "markdown",
   "id": "d4752ba7",
   "metadata": {},
   "source": [
    "# Call 2"
   ]
  },
  {
   "cell_type": "code",
   "execution_count": 3,
   "id": "bce70529",
   "metadata": {
    "collapsed": true
   },
   "outputs": [
    {
     "data": {
      "text/plain": [
       "[{'countryCode': 'AD', 'name': 'Andorra'},\n",
       " {'countryCode': 'AL', 'name': 'Albania'},\n",
       " {'countryCode': 'AR', 'name': 'Argentina'},\n",
       " {'countryCode': 'AT', 'name': 'Austria'},\n",
       " {'countryCode': 'AU', 'name': 'Australia'},\n",
       " {'countryCode': 'AX', 'name': 'Åland Islands'},\n",
       " {'countryCode': 'BA', 'name': 'Bosnia and Herzegovina'},\n",
       " {'countryCode': 'BB', 'name': 'Barbados'},\n",
       " {'countryCode': 'BE', 'name': 'Belgium'},\n",
       " {'countryCode': 'BG', 'name': 'Bulgaria'},\n",
       " {'countryCode': 'BJ', 'name': 'Benin'},\n",
       " {'countryCode': 'BO', 'name': 'Bolivia'},\n",
       " {'countryCode': 'BR', 'name': 'Brazil'},\n",
       " {'countryCode': 'BS', 'name': 'Bahamas'},\n",
       " {'countryCode': 'BW', 'name': 'Botswana'},\n",
       " {'countryCode': 'BY', 'name': 'Belarus'},\n",
       " {'countryCode': 'BZ', 'name': 'Belize'},\n",
       " {'countryCode': 'CA', 'name': 'Canada'},\n",
       " {'countryCode': 'CH', 'name': 'Switzerland'},\n",
       " {'countryCode': 'CL', 'name': 'Chile'},\n",
       " {'countryCode': 'CN', 'name': 'China'},\n",
       " {'countryCode': 'CO', 'name': 'Colombia'},\n",
       " {'countryCode': 'CR', 'name': 'Costa Rica'},\n",
       " {'countryCode': 'CU', 'name': 'Cuba'},\n",
       " {'countryCode': 'CY', 'name': 'Cyprus'},\n",
       " {'countryCode': 'CZ', 'name': 'Czechia'},\n",
       " {'countryCode': 'DE', 'name': 'Germany'},\n",
       " {'countryCode': 'DK', 'name': 'Denmark'},\n",
       " {'countryCode': 'DO', 'name': 'Dominican Republic'},\n",
       " {'countryCode': 'EC', 'name': 'Ecuador'},\n",
       " {'countryCode': 'EE', 'name': 'Estonia'},\n",
       " {'countryCode': 'EG', 'name': 'Egypt'},\n",
       " {'countryCode': 'ES', 'name': 'Spain'},\n",
       " {'countryCode': 'FI', 'name': 'Finland'},\n",
       " {'countryCode': 'FO', 'name': 'Faroe Islands'},\n",
       " {'countryCode': 'FR', 'name': 'France'},\n",
       " {'countryCode': 'GA', 'name': 'Gabon'},\n",
       " {'countryCode': 'GB', 'name': 'United Kingdom'},\n",
       " {'countryCode': 'GD', 'name': 'Grenada'},\n",
       " {'countryCode': 'GG', 'name': 'Guernsey'},\n",
       " {'countryCode': 'GI', 'name': 'Gibraltar'},\n",
       " {'countryCode': 'GL', 'name': 'Greenland'},\n",
       " {'countryCode': 'GM', 'name': 'Gambia'},\n",
       " {'countryCode': 'GR', 'name': 'Greece'},\n",
       " {'countryCode': 'GT', 'name': 'Guatemala'},\n",
       " {'countryCode': 'GY', 'name': 'Guyana'},\n",
       " {'countryCode': 'HN', 'name': 'Honduras'},\n",
       " {'countryCode': 'HR', 'name': 'Croatia'},\n",
       " {'countryCode': 'HT', 'name': 'Haiti'},\n",
       " {'countryCode': 'HU', 'name': 'Hungary'},\n",
       " {'countryCode': 'ID', 'name': 'Indonesia'},\n",
       " {'countryCode': 'IE', 'name': 'Ireland'},\n",
       " {'countryCode': 'IM', 'name': 'Isle of Man'},\n",
       " {'countryCode': 'IS', 'name': 'Iceland'},\n",
       " {'countryCode': 'IT', 'name': 'Italy'},\n",
       " {'countryCode': 'JE', 'name': 'Jersey'},\n",
       " {'countryCode': 'JM', 'name': 'Jamaica'},\n",
       " {'countryCode': 'JP', 'name': 'Japan'},\n",
       " {'countryCode': 'KR', 'name': 'South Korea'},\n",
       " {'countryCode': 'LI', 'name': 'Liechtenstein'},\n",
       " {'countryCode': 'LS', 'name': 'Lesotho'},\n",
       " {'countryCode': 'LT', 'name': 'Lithuania'},\n",
       " {'countryCode': 'LU', 'name': 'Luxembourg'},\n",
       " {'countryCode': 'LV', 'name': 'Latvia'},\n",
       " {'countryCode': 'MA', 'name': 'Morocco'},\n",
       " {'countryCode': 'MC', 'name': 'Monaco'},\n",
       " {'countryCode': 'MD', 'name': 'Moldova'},\n",
       " {'countryCode': 'ME', 'name': 'Montenegro'},\n",
       " {'countryCode': 'MG', 'name': 'Madagascar'},\n",
       " {'countryCode': 'MK', 'name': 'North Macedonia'},\n",
       " {'countryCode': 'MN', 'name': 'Mongolia'},\n",
       " {'countryCode': 'MS', 'name': 'Montserrat'},\n",
       " {'countryCode': 'MT', 'name': 'Malta'},\n",
       " {'countryCode': 'MX', 'name': 'Mexico'},\n",
       " {'countryCode': 'MZ', 'name': 'Mozambique'},\n",
       " {'countryCode': 'NA', 'name': 'Namibia'},\n",
       " {'countryCode': 'NE', 'name': 'Niger'},\n",
       " {'countryCode': 'NG', 'name': 'Nigeria'},\n",
       " {'countryCode': 'NI', 'name': 'Nicaragua'},\n",
       " {'countryCode': 'NL', 'name': 'Netherlands'},\n",
       " {'countryCode': 'NO', 'name': 'Norway'},\n",
       " {'countryCode': 'NZ', 'name': 'New Zealand'},\n",
       " {'countryCode': 'PA', 'name': 'Panama'},\n",
       " {'countryCode': 'PE', 'name': 'Peru'},\n",
       " {'countryCode': 'PG', 'name': 'Papua New Guinea'},\n",
       " {'countryCode': 'PL', 'name': 'Poland'},\n",
       " {'countryCode': 'PR', 'name': 'Puerto Rico'},\n",
       " {'countryCode': 'PT', 'name': 'Portugal'},\n",
       " {'countryCode': 'PY', 'name': 'Paraguay'},\n",
       " {'countryCode': 'RO', 'name': 'Romania'},\n",
       " {'countryCode': 'RS', 'name': 'Serbia'},\n",
       " {'countryCode': 'RU', 'name': 'Russia'},\n",
       " {'countryCode': 'SE', 'name': 'Sweden'},\n",
       " {'countryCode': 'SG', 'name': 'Singapore'},\n",
       " {'countryCode': 'SI', 'name': 'Slovenia'},\n",
       " {'countryCode': 'SJ', 'name': 'Svalbard and Jan Mayen'},\n",
       " {'countryCode': 'SK', 'name': 'Slovakia'},\n",
       " {'countryCode': 'SM', 'name': 'San Marino'},\n",
       " {'countryCode': 'SR', 'name': 'Suriname'},\n",
       " {'countryCode': 'SV', 'name': 'El Salvador'},\n",
       " {'countryCode': 'TN', 'name': 'Tunisia'},\n",
       " {'countryCode': 'TR', 'name': 'Turkey'},\n",
       " {'countryCode': 'UA', 'name': 'Ukraine'},\n",
       " {'countryCode': 'US', 'name': 'United States'},\n",
       " {'countryCode': 'UY', 'name': 'Uruguay'},\n",
       " {'countryCode': 'VA', 'name': 'Vatican City'},\n",
       " {'countryCode': 'VE', 'name': 'Venezuela'},\n",
       " {'countryCode': 'VN', 'name': 'Vietnam'},\n",
       " {'countryCode': 'ZA', 'name': 'South Africa'},\n",
       " {'countryCode': 'ZW', 'name': 'Zimbabwe'}]"
      ]
     },
     "execution_count": 3,
     "metadata": {},
     "output_type": "execute_result"
    }
   ],
   "source": [
    "#API which returns all the available countries, as well as thier codes\n",
    "available_countries = requests.get(f\"https://date.nager.at/api/v3/AvailableCountries\") #Requesting API for all countries\n",
    "\n",
    "available_countries.json() #Printing out the json file for available countries"
   ]
  },
  {
   "cell_type": "markdown",
   "id": "4d7319cc",
   "metadata": {},
   "source": [
    "# Call 3"
   ]
  },
  {
   "cell_type": "code",
   "execution_count": 4,
   "id": "b36f8dd2",
   "metadata": {
    "collapsed": true
   },
   "outputs": [
    {
     "data": {
      "text/plain": [
       "[{'startDate': '2023-04-08',\n",
       "  'endDate': '2023-04-10',\n",
       "  'dayCount': 3,\n",
       "  'needBridgeDay': False},\n",
       " {'startDate': '2023-04-29',\n",
       "  'endDate': '2023-05-01',\n",
       "  'dayCount': 3,\n",
       "  'needBridgeDay': False},\n",
       " {'startDate': '2023-05-06',\n",
       "  'endDate': '2023-05-09',\n",
       "  'dayCount': 4,\n",
       "  'needBridgeDay': True},\n",
       " {'startDate': '2023-05-18',\n",
       "  'endDate': '2023-05-21',\n",
       "  'dayCount': 4,\n",
       "  'needBridgeDay': True},\n",
       " {'startDate': '2023-05-27',\n",
       "  'endDate': '2023-05-29',\n",
       "  'dayCount': 3,\n",
       "  'needBridgeDay': False},\n",
       " {'startDate': '2023-06-23',\n",
       "  'endDate': '2023-06-25',\n",
       "  'dayCount': 3,\n",
       "  'needBridgeDay': False},\n",
       " {'startDate': '2023-08-12',\n",
       "  'endDate': '2023-08-15',\n",
       "  'dayCount': 4,\n",
       "  'needBridgeDay': True},\n",
       " {'startDate': '2023-12-23',\n",
       "  'endDate': '2023-12-26',\n",
       "  'dayCount': 4,\n",
       "  'needBridgeDay': False}]"
      ]
     },
     "execution_count": 4,
     "metadata": {},
     "output_type": "execute_result"
    }
   ],
   "source": [
    "#API which takes a country and a year, and returns all the long weekends, with start and end date, as well as the \n",
    "#overall length. It also returns if a bridge day is needed\n",
    "\n",
    "year = 2023 #Setting year for 2023\n",
    "\n",
    "long_weekend = requests.get(f\"https://date.nager.at/api/v3/LongWeekend/{year}/{countryCode}\") #Requesting API for Luxembourg\n",
    "                                                                                              #long weekends in 2023\n",
    "long_weekend.json() #Printing out the json file for long weekends in Luxembourg, 2023"
   ]
  },
  {
   "cell_type": "markdown",
   "id": "53ca2563",
   "metadata": {},
   "source": [
    "# Call 4"
   ]
  },
  {
   "cell_type": "code",
   "execution_count": 5,
   "id": "58ee191d",
   "metadata": {
    "collapsed": true
   },
   "outputs": [
    {
     "data": {
      "text/plain": [
       "[{'date': '2023-01-01',\n",
       "  'localName': 'Neijoerschdag',\n",
       "  'name': \"New Year's Day\",\n",
       "  'countryCode': 'LU',\n",
       "  'fixed': True,\n",
       "  'global': True,\n",
       "  'counties': None,\n",
       "  'launchYear': None,\n",
       "  'types': ['Public']},\n",
       " {'date': '2023-04-07',\n",
       "  'localName': 'Karfreideg',\n",
       "  'name': 'Good Friday',\n",
       "  'countryCode': 'LU',\n",
       "  'fixed': False,\n",
       "  'global': True,\n",
       "  'counties': None,\n",
       "  'launchYear': None,\n",
       "  'types': ['Bank']},\n",
       " {'date': '2023-04-10',\n",
       "  'localName': 'Ouschterméindeg',\n",
       "  'name': 'Easter Monday',\n",
       "  'countryCode': 'LU',\n",
       "  'fixed': False,\n",
       "  'global': True,\n",
       "  'counties': None,\n",
       "  'launchYear': None,\n",
       "  'types': ['Public']},\n",
       " {'date': '2023-05-01',\n",
       "  'localName': 'Dag vun der Aarbecht',\n",
       "  'name': 'Labour Day',\n",
       "  'countryCode': 'LU',\n",
       "  'fixed': True,\n",
       "  'global': True,\n",
       "  'counties': None,\n",
       "  'launchYear': None,\n",
       "  'types': ['Public']},\n",
       " {'date': '2023-05-09',\n",
       "  'localName': 'Europadag',\n",
       "  'name': 'Europe Day',\n",
       "  'countryCode': 'LU',\n",
       "  'fixed': True,\n",
       "  'global': True,\n",
       "  'counties': None,\n",
       "  'launchYear': 2019,\n",
       "  'types': ['Public']},\n",
       " {'date': '2023-05-18',\n",
       "  'localName': 'Christi Himmelfaart',\n",
       "  'name': 'Ascension Day',\n",
       "  'countryCode': 'LU',\n",
       "  'fixed': False,\n",
       "  'global': True,\n",
       "  'counties': None,\n",
       "  'launchYear': None,\n",
       "  'types': ['Public']},\n",
       " {'date': '2023-05-29',\n",
       "  'localName': 'Péngschtméindeg',\n",
       "  'name': 'Whit Monday',\n",
       "  'countryCode': 'LU',\n",
       "  'fixed': False,\n",
       "  'global': True,\n",
       "  'counties': None,\n",
       "  'launchYear': None,\n",
       "  'types': ['Public']},\n",
       " {'date': '2023-06-23',\n",
       "  'localName': 'Groussherzogsgebuertsdag',\n",
       "  'name': \"Sovereign's birthday\",\n",
       "  'countryCode': 'LU',\n",
       "  'fixed': True,\n",
       "  'global': True,\n",
       "  'counties': None,\n",
       "  'launchYear': None,\n",
       "  'types': ['Public']},\n",
       " {'date': '2023-08-15',\n",
       "  'localName': 'Léiffrawëschdag',\n",
       "  'name': 'Assumption Day',\n",
       "  'countryCode': 'LU',\n",
       "  'fixed': True,\n",
       "  'global': True,\n",
       "  'counties': None,\n",
       "  'launchYear': None,\n",
       "  'types': ['Public']},\n",
       " {'date': '2023-11-01',\n",
       "  'localName': 'Allerhellgen',\n",
       "  'name': \"All Saints' Day\",\n",
       "  'countryCode': 'LU',\n",
       "  'fixed': True,\n",
       "  'global': True,\n",
       "  'counties': None,\n",
       "  'launchYear': None,\n",
       "  'types': ['Public']},\n",
       " {'date': '2023-12-25',\n",
       "  'localName': 'Chrëschtdag',\n",
       "  'name': 'Christmas Day',\n",
       "  'countryCode': 'LU',\n",
       "  'fixed': True,\n",
       "  'global': True,\n",
       "  'counties': None,\n",
       "  'launchYear': None,\n",
       "  'types': ['Public']},\n",
       " {'date': '2023-12-26',\n",
       "  'localName': 'Stiefesdag',\n",
       "  'name': \"St. Stephen's Day\",\n",
       "  'countryCode': 'LU',\n",
       "  'fixed': True,\n",
       "  'global': True,\n",
       "  'counties': None,\n",
       "  'launchYear': None,\n",
       "  'types': ['Public']}]"
      ]
     },
     "execution_count": 5,
     "metadata": {},
     "output_type": "execute_result"
    }
   ],
   "source": [
    "#API which takes a country and a year, and returns all of the public holidays with both their local and common names,\n",
    "#date, if the holiday is fixed, if it is global, and the counties and launch year(these are all null for Luxembourg)\n",
    "\n",
    "public_holidays = requests.get(f\"https://date.nager.at/api/v3/PublicHolidays/{year}/{countryCode}\") #Requesting API for Luxembourg\n",
    "                                                                                                    #public holidays as of 2023\n",
    "public_holidays.json() #Printing out the json file for public holidays inn Luxembourg as of 2023"
   ]
  },
  {
   "cell_type": "markdown",
   "id": "6761eea1",
   "metadata": {},
   "source": [
    "# Call 5"
   ]
  },
  {
   "cell_type": "code",
   "execution_count": 16,
   "id": "9c341b72",
   "metadata": {
    "collapsed": true
   },
   "outputs": [
    {
     "data": {
      "text/plain": [
       "<Response [204]>"
      ]
     },
     "execution_count": 16,
     "metadata": {},
     "output_type": "execute_result"
    }
   ],
   "source": [
    "#API which takes a country and returns a number to determine if today is a national holiday in the country\n",
    "\n",
    "offset = 0\n",
    "\n",
    "today_holiday = requests.get(f\"https://date.nager.at/api/v3/IsTodayPublicHoliday/{countryCode}?offset={offset}\")#Requesting API for\n",
    "                                                                                                                #checking if today is a national holiday in Luxembourg\n",
    "today_holiday #Printing out to see if today is a national holiday in Luxembourg\n",
    "\n",
    "#<Response [204]> means that today is NOT a public holiday in Luxembourg"
   ]
  },
  {
   "cell_type": "markdown",
   "id": "7bb3a652",
   "metadata": {},
   "source": [
    "# Call 6"
   ]
  },
  {
   "cell_type": "code",
   "execution_count": 9,
   "id": "78ce57d2",
   "metadata": {},
   "outputs": [],
   "source": [
    "#API which takes a country and returns the public holidays for the next 365 days \n",
    "\n",
    "upcoming_holidays = requests.get(f\"https://date.nager.at/api/v3/NextPublicHolidays/{countryCode}\") #Requesting API for the upcoming holidays\n",
    "                                                                                                   #in Luxembourg over the next year\n",
    "upcoming_holidays.json() #Printing out the json file for the holidays in Luxembourg for the next year"
   ]
  },
  {
   "cell_type": "markdown",
   "id": "a3cd2439",
   "metadata": {},
   "source": [
    "# Call 7"
   ]
  },
  {
   "cell_type": "code",
   "execution_count": 10,
   "id": "4f4f4480",
   "metadata": {
    "collapsed": true
   },
   "outputs": [
    {
     "data": {
      "text/plain": [
       "[{'date': '2023-03-20',\n",
       "  'localName': 'Día de San José',\n",
       "  'name': \"Saint Joseph's Day\",\n",
       "  'countryCode': 'CO',\n",
       "  'fixed': False,\n",
       "  'global': True,\n",
       "  'counties': None,\n",
       "  'launchYear': None,\n",
       "  'types': ['Public']},\n",
       " {'date': '2023-03-20',\n",
       "  'localName': 'San José',\n",
       "  'name': \"St. Joseph's Day\",\n",
       "  'countryCode': 'ES',\n",
       "  'fixed': True,\n",
       "  'global': False,\n",
       "  'counties': ['ES-MD'],\n",
       "  'launchYear': None,\n",
       "  'types': ['Public']},\n",
       " {'date': '2023-03-20',\n",
       "  'localName': 'Natalicio de Benito Juárez',\n",
       "  'name': \"Benito Juárez's birthday\",\n",
       "  'countryCode': 'MX',\n",
       "  'fixed': False,\n",
       "  'global': True,\n",
       "  'counties': None,\n",
       "  'launchYear': None,\n",
       "  'types': ['Public']},\n",
       " {'date': '2023-03-20',\n",
       "  'localName': 'Otago Anniversary Day',\n",
       "  'name': 'Otago Anniversary Day',\n",
       "  'countryCode': 'NZ',\n",
       "  'fixed': False,\n",
       "  'global': False,\n",
       "  'counties': ['NZ-OTA'],\n",
       "  'launchYear': None,\n",
       "  'types': ['Public']},\n",
       " {'date': '2023-03-20',\n",
       "  'localName': 'Independence Day',\n",
       "  'name': 'Independence Day',\n",
       "  'countryCode': 'TN',\n",
       "  'fixed': True,\n",
       "  'global': True,\n",
       "  'counties': None,\n",
       "  'launchYear': None,\n",
       "  'types': ['Public']},\n",
       " {'date': '2023-03-21',\n",
       "  'localName': '春分の日',\n",
       "  'name': 'Vernal Equinox Day',\n",
       "  'countryCode': 'JP',\n",
       "  'fixed': False,\n",
       "  'global': True,\n",
       "  'counties': None,\n",
       "  'launchYear': None,\n",
       "  'types': ['Public']},\n",
       " {'date': '2023-03-21',\n",
       "  'localName': 'Independence Day',\n",
       "  'name': 'Independence Day',\n",
       "  'countryCode': 'NA',\n",
       "  'fixed': True,\n",
       "  'global': True,\n",
       "  'counties': None,\n",
       "  'launchYear': None,\n",
       "  'types': ['Public']},\n",
       " {'date': '2023-03-21',\n",
       "  'localName': 'Día del abolición de la esclavitud',\n",
       "  'name': 'Slavery Abolition Anniversary',\n",
       "  'countryCode': 'VE',\n",
       "  'fixed': True,\n",
       "  'global': True,\n",
       "  'counties': None,\n",
       "  'launchYear': None,\n",
       "  'types': ['Public']},\n",
       " {'date': '2023-03-21',\n",
       "  'localName': 'Human Rights Day',\n",
       "  'name': 'Human Rights Day',\n",
       "  'countryCode': 'ZA',\n",
       "  'fixed': False,\n",
       "  'global': True,\n",
       "  'counties': None,\n",
       "  'launchYear': 1990,\n",
       "  'types': ['Public']},\n",
       " {'date': '2023-03-22',\n",
       "  'localName': 'Dita e Sulltan Nevruzit',\n",
       "  'name': 'Nowruz',\n",
       "  'countryCode': 'AL',\n",
       "  'fixed': True,\n",
       "  'global': True,\n",
       "  'counties': None,\n",
       "  'launchYear': None,\n",
       "  'types': ['Public']},\n",
       " {'date': '2023-03-22',\n",
       "  'localName': 'Día de la Abolición de Esclavitud',\n",
       "  'name': 'Emancipation Day',\n",
       "  'countryCode': 'PR',\n",
       "  'fixed': True,\n",
       "  'global': True,\n",
       "  'counties': None,\n",
       "  'launchYear': None,\n",
       "  'types': ['Public']},\n",
       " {'date': '2023-03-24',\n",
       "  'localName': 'Día Nacional de la Memoria por la Verdad y la Justicia',\n",
       "  'name': 'Day of Remembrance for Truth and Justice',\n",
       "  'countryCode': 'AR',\n",
       "  'fixed': True,\n",
       "  'global': True,\n",
       "  'counties': None,\n",
       "  'launchYear': None,\n",
       "  'types': ['Public']},\n",
       " {'date': '2023-03-25',\n",
       "  'localName': 'Επέτειος Ελληνικής Ανεξαρτησίας',\n",
       "  'name': 'Greek Independence Day',\n",
       "  'countryCode': 'CY',\n",
       "  'fixed': True,\n",
       "  'global': True,\n",
       "  'counties': None,\n",
       "  'launchYear': None,\n",
       "  'types': ['Public']},\n",
       " {'date': '2023-03-25',\n",
       "  'localName': 'Ευαγγελισμός της Θεοτόκου',\n",
       "  'name': 'Annunciation',\n",
       "  'countryCode': 'GR',\n",
       "  'fixed': True,\n",
       "  'global': True,\n",
       "  'counties': None,\n",
       "  'launchYear': None,\n",
       "  'types': ['Public']},\n",
       " {'date': '2023-03-25',\n",
       "  'localName': 'Εικοστή Πέμπτη Μαρτίου',\n",
       "  'name': 'Independence Day',\n",
       "  'countryCode': 'GR',\n",
       "  'fixed': True,\n",
       "  'global': True,\n",
       "  'counties': None,\n",
       "  'launchYear': None,\n",
       "  'types': ['Public']},\n",
       " {'date': '2023-03-25',\n",
       "  'localName': 'Anniversary of the Arengo',\n",
       "  'name': 'Anniversary of the Arengo',\n",
       "  'countryCode': 'SM',\n",
       "  'fixed': True,\n",
       "  'global': True,\n",
       "  'counties': None,\n",
       "  'launchYear': None,\n",
       "  'types': ['Public']}]"
      ]
     },
     "execution_count": 10,
     "metadata": {},
     "output_type": "execute_result"
    }
   ],
   "source": [
    "#API which returns all the public holdiays throughout the next week\n",
    "\n",
    "holidays_this_week = requests.get(f\"https://date.nager.at/api/v3/NextPublicHolidaysWorldwide\") #Requesting API for the public holidays over the next week\n",
    "\n",
    "holidays_this_week.json() #Printing out the json file for the public holidays throughout the next week"
   ]
  },
  {
   "cell_type": "markdown",
   "id": "e567189d",
   "metadata": {},
   "source": [
    "# Public Holiday info for 10 countries"
   ]
  },
  {
   "cell_type": "code",
   "execution_count": 17,
   "id": "ad3daa76",
   "metadata": {
    "collapsed": true
   },
   "outputs": [
    {
     "name": "stdout",
     "output_type": "stream",
     "text": [
      "[{'date': '2023-04-09', 'localName': 'Pasqua', 'name': 'Easter Sunday', 'countryCode': 'IT', 'fixed': False, 'global': True, 'counties': None, 'launchYear': None, 'types': ['Public']}, {'date': '2023-04-10', 'localName': \"Lunedì dell'Angelo\", 'name': 'Easter Monday', 'countryCode': 'IT', 'fixed': False, 'global': True, 'counties': None, 'launchYear': 1642, 'types': ['Public']}, {'date': '2023-04-25', 'localName': 'Festa della Liberazione', 'name': 'Liberation Day', 'countryCode': 'IT', 'fixed': True, 'global': True, 'counties': None, 'launchYear': None, 'types': ['Public']}, {'date': '2023-05-01', 'localName': 'Festa del Lavoro', 'name': 'International Workers Day', 'countryCode': 'IT', 'fixed': True, 'global': True, 'counties': None, 'launchYear': None, 'types': ['Public']}, {'date': '2023-06-02', 'localName': 'Festa della Repubblica', 'name': 'Republic Day', 'countryCode': 'IT', 'fixed': True, 'global': True, 'counties': None, 'launchYear': None, 'types': ['Public']}, {'date': '2023-08-15', 'localName': 'Ferragosto o Assunzione', 'name': 'Assumption Day', 'countryCode': 'IT', 'fixed': True, 'global': True, 'counties': None, 'launchYear': None, 'types': ['Public']}, {'date': '2023-11-01', 'localName': 'Tutti i santi', 'name': 'All Saints Day', 'countryCode': 'IT', 'fixed': True, 'global': True, 'counties': None, 'launchYear': None, 'types': ['Public']}, {'date': '2023-12-08', 'localName': 'Immacolata Concezione', 'name': 'Immaculate Conception', 'countryCode': 'IT', 'fixed': True, 'global': True, 'counties': None, 'launchYear': None, 'types': ['Public']}, {'date': '2023-12-25', 'localName': 'Natale', 'name': 'Christmas Day', 'countryCode': 'IT', 'fixed': True, 'global': True, 'counties': None, 'launchYear': None, 'types': ['Public']}, {'date': '2023-12-26', 'localName': 'Santo Stefano', 'name': \"St. Stephen's Day\", 'countryCode': 'IT', 'fixed': True, 'global': True, 'counties': None, 'launchYear': None, 'types': ['Public']}, {'date': '2024-01-01', 'localName': 'Capodanno', 'name': \"New Year's Day\", 'countryCode': 'IT', 'fixed': True, 'global': True, 'counties': None, 'launchYear': 1967, 'types': ['Public']}, {'date': '2024-01-06', 'localName': 'Epifania', 'name': 'Epiphany', 'countryCode': 'IT', 'fixed': True, 'global': True, 'counties': None, 'launchYear': None, 'types': ['Public']}]\n",
      "NUMBER OF HOLIDAYS: 12\n",
      "...\n",
      "[{'date': '2023-04-25', 'localName': 'عيد تحرير سيناء', 'name': 'Sinai Liberation Day', 'countryCode': 'EG', 'fixed': True, 'global': True, 'counties': None, 'launchYear': None, 'types': ['Public']}, {'date': '2023-05-01', 'localName': 'عيد العمال', 'name': 'Labour Day', 'countryCode': 'EG', 'fixed': True, 'global': True, 'counties': None, 'launchYear': None, 'types': ['Public']}, {'date': '2023-07-23', 'localName': 'عيد ثورة 23 يوليو', 'name': 'Revolution Day', 'countryCode': 'EG', 'fixed': True, 'global': True, 'counties': None, 'launchYear': None, 'types': ['Public']}, {'date': '2023-10-06', 'localName': 'عيد القوات المسلحة', 'name': 'Armed Forces Day', 'countryCode': 'EG', 'fixed': True, 'global': True, 'counties': None, 'launchYear': None, 'types': ['Public']}, {'date': '2024-01-07', 'localName': 'عيد الميلاد المجيد', 'name': 'Christmas', 'countryCode': 'EG', 'fixed': True, 'global': True, 'counties': None, 'launchYear': None, 'types': ['Public']}, {'date': '2024-01-25', 'localName': 'عيد الثورة 25 يناير', 'name': 'Revolution Day 2011 National Police Day', 'countryCode': 'EG', 'fixed': True, 'global': True, 'counties': None, 'launchYear': None, 'types': ['Public']}]\n",
      "NUMBER OF HOLIDAYS: 6\n",
      "...\n",
      "[{'date': '2023-04-07', 'localName': 'Viernes Santo', 'name': 'Good Friday', 'countryCode': 'BO', 'fixed': False, 'global': True, 'counties': None, 'launchYear': None, 'types': ['Public']}, {'date': '2023-05-01', 'localName': 'Dia del trabajo', 'name': 'Labour Day', 'countryCode': 'BO', 'fixed': True, 'global': True, 'counties': None, 'launchYear': None, 'types': ['Public']}, {'date': '2023-06-08', 'localName': 'Corpus Christi', 'name': 'Corpus Christi', 'countryCode': 'BO', 'fixed': False, 'global': True, 'counties': None, 'launchYear': None, 'types': ['Public']}, {'date': '2023-06-21', 'localName': 'Año Nuevo Andino', 'name': 'Andean New Year', 'countryCode': 'BO', 'fixed': True, 'global': True, 'counties': None, 'launchYear': None, 'types': ['Public']}, {'date': '2023-08-02', 'localName': 'Día de la Revolución Agraria', 'name': 'Agrarian Reform Day', 'countryCode': 'BO', 'fixed': True, 'global': True, 'counties': None, 'launchYear': None, 'types': ['Public']}, {'date': '2023-08-06', 'localName': 'Dia de la Patria', 'name': 'Independence Day', 'countryCode': 'BO', 'fixed': True, 'global': True, 'counties': None, 'launchYear': None, 'types': ['Public']}, {'date': '2023-11-02', 'localName': 'Todos Santos', 'name': \"All Saints' Day\", 'countryCode': 'BO', 'fixed': True, 'global': True, 'counties': None, 'launchYear': None, 'types': ['Public']}, {'date': '2023-12-25', 'localName': 'Navidad', 'name': 'Christmas Day', 'countryCode': 'BO', 'fixed': True, 'global': True, 'counties': None, 'launchYear': None, 'types': ['Public']}, {'date': '2024-01-01', 'localName': 'Año Nuevo', 'name': \"New Year's Day\", 'countryCode': 'BO', 'fixed': True, 'global': True, 'counties': None, 'launchYear': None, 'types': ['Public']}, {'date': '2024-02-02', 'localName': 'Fiesta de la Virgen de Candelaria', 'name': 'Feast of the Virgin of Candelaria', 'countryCode': 'BO', 'fixed': True, 'global': True, 'counties': None, 'launchYear': None, 'types': ['Public']}, {'date': '2024-02-12', 'localName': 'Feriado por Carnaval', 'name': 'Carnival', 'countryCode': 'BO', 'fixed': False, 'global': True, 'counties': None, 'launchYear': None, 'types': ['Public']}, {'date': '2024-02-13', 'localName': 'Feriado por Carnaval', 'name': 'Carnival', 'countryCode': 'BO', 'fixed': False, 'global': True, 'counties': None, 'launchYear': None, 'types': ['Public']}]\n",
      "NUMBER OF HOLIDAYS: 12\n",
      "...\n",
      "[{'date': '2023-04-07', 'localName': 'Sexta-feira Santa', 'name': 'Good Friday', 'countryCode': 'BR', 'fixed': False, 'global': True, 'counties': None, 'launchYear': None, 'types': ['Public']}, {'date': '2023-04-09', 'localName': 'Domingo de Páscoa', 'name': 'Easter Sunday', 'countryCode': 'BR', 'fixed': False, 'global': True, 'counties': None, 'launchYear': None, 'types': ['Public']}, {'date': '2023-04-21', 'localName': 'Dia de Tiradentes', 'name': 'Tiradentes', 'countryCode': 'BR', 'fixed': True, 'global': True, 'counties': None, 'launchYear': None, 'types': ['Public']}, {'date': '2023-05-01', 'localName': 'Dia do Trabalhador', 'name': 'Labour Day', 'countryCode': 'BR', 'fixed': True, 'global': True, 'counties': None, 'launchYear': None, 'types': ['Public']}, {'date': '2023-06-08', 'localName': 'Corpus Christi', 'name': 'Corpus Christi', 'countryCode': 'BR', 'fixed': False, 'global': True, 'counties': None, 'launchYear': None, 'types': ['Public']}, {'date': '2023-07-09', 'localName': 'Revolução Constitucionalista de 1932', 'name': 'Constitutionalist Revolution of 1932', 'countryCode': 'BR', 'fixed': True, 'global': False, 'counties': ['BR-SP'], 'launchYear': None, 'types': ['Public']}, {'date': '2023-09-07', 'localName': 'Dia da Independência', 'name': 'Independence Day', 'countryCode': 'BR', 'fixed': True, 'global': True, 'counties': None, 'launchYear': None, 'types': ['Public']}, {'date': '2023-10-12', 'localName': 'Nossa Senhora Aparecida', 'name': 'Our Lady of Aparecida', 'countryCode': 'BR', 'fixed': True, 'global': True, 'counties': None, 'launchYear': None, 'types': ['Public']}, {'date': '2023-11-02', 'localName': 'Dia de Finados', 'name': \"All Souls' Day\", 'countryCode': 'BR', 'fixed': True, 'global': True, 'counties': None, 'launchYear': None, 'types': ['Public']}, {'date': '2023-11-15', 'localName': 'Proclamação da República', 'name': 'Republic Proclamation Day', 'countryCode': 'BR', 'fixed': True, 'global': True, 'counties': None, 'launchYear': None, 'types': ['Public']}, {'date': '2023-12-25', 'localName': 'Natal', 'name': 'Christmas Day', 'countryCode': 'BR', 'fixed': True, 'global': True, 'counties': None, 'launchYear': None, 'types': ['Public']}, {'date': '2024-01-01', 'localName': 'Confraternização Universal', 'name': \"New Year's Day\", 'countryCode': 'BR', 'fixed': True, 'global': True, 'counties': None, 'launchYear': None, 'types': ['Public']}]\n",
      "NUMBER OF HOLIDAYS: 12\n",
      "...\n"
     ]
    },
    {
     "name": "stdout",
     "output_type": "stream",
     "text": [
      "[{'date': '2023-04-09', 'localName': 'Uskrs i uskrsni ponedjeljak', 'name': 'Easter Sunday', 'countryCode': 'HR', 'fixed': False, 'global': True, 'counties': None, 'launchYear': None, 'types': ['Public']}, {'date': '2023-04-10', 'localName': 'Uskrs i uskrsni ponedjeljak', 'name': 'Easter Monday', 'countryCode': 'HR', 'fixed': False, 'global': True, 'counties': None, 'launchYear': None, 'types': ['Public']}, {'date': '2023-05-01', 'localName': 'Međunarodni praznik rada', 'name': \"International Workers' Day\", 'countryCode': 'HR', 'fixed': True, 'global': True, 'counties': None, 'launchYear': None, 'types': ['Public']}, {'date': '2023-05-30', 'localName': 'Dan državnosti', 'name': 'National Day', 'countryCode': 'HR', 'fixed': True, 'global': True, 'counties': None, 'launchYear': None, 'types': ['Public']}, {'date': '2023-06-08', 'localName': 'Tijelovo', 'name': 'Corpus Christi', 'countryCode': 'HR', 'fixed': False, 'global': True, 'counties': None, 'launchYear': None, 'types': ['Public']}, {'date': '2023-06-22', 'localName': 'Dan antifašističke borbe', 'name': 'Anti-Fascist Struggle Day', 'countryCode': 'HR', 'fixed': True, 'global': True, 'counties': None, 'launchYear': None, 'types': ['Public']}, {'date': '2023-08-05', 'localName': 'Dan pobjede i domovinske zahvalnosti i Dan hrvatskih branitelja', 'name': 'Victory and Homeland Thanksgiving Day and the Day of Croatian defenders', 'countryCode': 'HR', 'fixed': True, 'global': True, 'counties': None, 'launchYear': None, 'types': ['Public']}, {'date': '2023-08-15', 'localName': 'Velika Gospa', 'name': 'Assumption Day', 'countryCode': 'HR', 'fixed': True, 'global': True, 'counties': None, 'launchYear': None, 'types': ['Public']}, {'date': '2023-11-01', 'localName': 'Dan svih svetih', 'name': \"All Saints' Day\", 'countryCode': 'HR', 'fixed': True, 'global': True, 'counties': None, 'launchYear': None, 'types': ['Public']}, {'date': '2023-11-18', 'localName': 'Dan sjećanja na žrtve Domovinskog rata', 'name': 'Remembrance Day', 'countryCode': 'HR', 'fixed': True, 'global': True, 'counties': None, 'launchYear': None, 'types': ['Public']}, {'date': '2023-12-25', 'localName': 'Božić', 'name': 'Christmas Day', 'countryCode': 'HR', 'fixed': True, 'global': True, 'counties': None, 'launchYear': None, 'types': ['Public']}, {'date': '2023-12-26', 'localName': 'Prvi dan po Božiću, Sveti Stjepan, Štefanje, Stipanje', 'name': \"St.Stephen's Day\", 'countryCode': 'HR', 'fixed': True, 'global': True, 'counties': None, 'launchYear': None, 'types': ['Public']}, {'date': '2024-01-01', 'localName': 'Nova Godina', 'name': \"New Year's Day\", 'countryCode': 'HR', 'fixed': True, 'global': True, 'counties': None, 'launchYear': None, 'types': ['Public']}, {'date': '2024-01-06', 'localName': 'Bogojavljenje, Sveta tri kralja', 'name': 'Epiphany', 'countryCode': 'HR', 'fixed': True, 'global': True, 'counties': None, 'launchYear': None, 'types': ['Public']}]\n",
      "NUMBER OF HOLIDAYS: 14\n",
      "...\n",
      "[{'date': '2023-04-07', 'localName': 'Nagypéntek', 'name': 'Good Friday', 'countryCode': 'HU', 'fixed': False, 'global': True, 'counties': None, 'launchYear': None, 'types': ['Public']}, {'date': '2023-04-09', 'localName': 'Húsvétvasárnap', 'name': 'Easter Sunday', 'countryCode': 'HU', 'fixed': False, 'global': True, 'counties': None, 'launchYear': None, 'types': ['Public']}, {'date': '2023-04-10', 'localName': 'Húsvéthétfő', 'name': 'Easter Monday', 'countryCode': 'HU', 'fixed': False, 'global': True, 'counties': None, 'launchYear': None, 'types': ['Public']}, {'date': '2023-05-01', 'localName': 'A munka ünnepe', 'name': 'Labour day', 'countryCode': 'HU', 'fixed': True, 'global': True, 'counties': None, 'launchYear': None, 'types': ['Public']}, {'date': '2023-05-28', 'localName': 'Pünkösdvasárnap', 'name': 'Pentecost', 'countryCode': 'HU', 'fixed': False, 'global': True, 'counties': None, 'launchYear': None, 'types': ['Public']}, {'date': '2023-05-29', 'localName': 'Pünkösdhétfő', 'name': 'Whit Monday', 'countryCode': 'HU', 'fixed': False, 'global': True, 'counties': None, 'launchYear': None, 'types': ['Public']}, {'date': '2023-08-20', 'localName': 'Az államalapítás ünnepe', 'name': 'State Foundation Day', 'countryCode': 'HU', 'fixed': True, 'global': True, 'counties': None, 'launchYear': None, 'types': ['Public']}, {'date': '2023-10-23', 'localName': 'Nemzeti ünnep', 'name': '1956 Revolution Memorial Day', 'countryCode': 'HU', 'fixed': True, 'global': True, 'counties': None, 'launchYear': None, 'types': ['Public']}, {'date': '2023-11-01', 'localName': 'Mindenszentek', 'name': 'All Saints Day', 'countryCode': 'HU', 'fixed': True, 'global': True, 'counties': None, 'launchYear': None, 'types': ['Public']}, {'date': '2023-12-25', 'localName': 'Karácsony', 'name': 'Christmas Day', 'countryCode': 'HU', 'fixed': True, 'global': True, 'counties': None, 'launchYear': None, 'types': ['Public']}, {'date': '2023-12-26', 'localName': 'Karácsony másnapja', 'name': \"St. Stephen's Day\", 'countryCode': 'HU', 'fixed': True, 'global': True, 'counties': None, 'launchYear': None, 'types': ['Public']}, {'date': '2024-01-01', 'localName': 'Újév', 'name': \"New Year's Day\", 'countryCode': 'HU', 'fixed': True, 'global': True, 'counties': None, 'launchYear': None, 'types': ['Public']}, {'date': '2024-03-15', 'localName': 'Nemzeti ünnep', 'name': '1848 Revolution Memorial Day', 'countryCode': 'HU', 'fixed': True, 'global': True, 'counties': None, 'launchYear': None, 'types': ['Public']}]\n",
      "NUMBER OF HOLIDAYS: 13\n",
      "...\n",
      "[{'date': '2023-04-07', 'localName': 'Good Friday', 'name': 'Good Friday', 'countryCode': 'JM', 'fixed': False, 'global': True, 'counties': None, 'launchYear': None, 'types': ['Public']}, {'date': '2023-04-10', 'localName': 'Easter Monday', 'name': 'Easter Monday', 'countryCode': 'JM', 'fixed': False, 'global': True, 'counties': None, 'launchYear': None, 'types': ['Public']}, {'date': '2023-05-23', 'localName': 'Labour Day', 'name': 'Labour Day', 'countryCode': 'JM', 'fixed': True, 'global': True, 'counties': None, 'launchYear': None, 'types': ['Public']}, {'date': '2023-08-01', 'localName': 'Emancipation Day', 'name': 'Emancipation Day', 'countryCode': 'JM', 'fixed': True, 'global': True, 'counties': None, 'launchYear': None, 'types': ['Public']}, {'date': '2023-08-07', 'localName': 'Independence Day', 'name': 'Independence Day', 'countryCode': 'JM', 'fixed': False, 'global': True, 'counties': None, 'launchYear': None, 'types': ['Public']}, {'date': '2023-10-16', 'localName': 'National Heroes Day', 'name': 'National Heroes Day', 'countryCode': 'JM', 'fixed': True, 'global': True, 'counties': None, 'launchYear': None, 'types': ['Public']}, {'date': '2023-12-25', 'localName': 'Christmas Day', 'name': 'Christmas Day', 'countryCode': 'JM', 'fixed': True, 'global': True, 'counties': None, 'launchYear': None, 'types': ['Public']}, {'date': '2023-12-26', 'localName': 'Boxing Day', 'name': \"St. Stephen's Day\", 'countryCode': 'JM', 'fixed': True, 'global': True, 'counties': None, 'launchYear': None, 'types': ['Public']}, {'date': '2024-01-01', 'localName': \"New Year's Day\", 'name': \"New Year's Day\", 'countryCode': 'JM', 'fixed': True, 'global': True, 'counties': None, 'launchYear': None, 'types': ['Public']}, {'date': '2024-02-14', 'localName': 'Ash Wednesday', 'name': 'Ash Wednesday', 'countryCode': 'JM', 'fixed': False, 'global': True, 'counties': None, 'launchYear': None, 'types': ['Public']}]\n",
      "NUMBER OF HOLIDAYS: 10\n",
      "...\n",
      "[{'date': '2023-03-20', 'localName': 'Natalicio de Benito Juárez', 'name': \"Benito Juárez's birthday\", 'countryCode': 'MX', 'fixed': False, 'global': True, 'counties': None, 'launchYear': None, 'types': ['Public']}, {'date': '2023-05-01', 'localName': 'Día del Trabajo', 'name': 'Labor Day', 'countryCode': 'MX', 'fixed': False, 'global': True, 'counties': None, 'launchYear': None, 'types': ['Public']}, {'date': '2023-09-15', 'localName': 'Día de la Independencia', 'name': 'Independence Day', 'countryCode': 'MX', 'fixed': False, 'global': True, 'counties': None, 'launchYear': None, 'types': ['Public']}, {'date': '2023-11-20', 'localName': 'Día de la Revolución', 'name': 'Revolution Day', 'countryCode': 'MX', 'fixed': False, 'global': True, 'counties': None, 'launchYear': None, 'types': ['Public']}, {'date': '2023-12-25', 'localName': 'Navidad', 'name': 'Christmas Day', 'countryCode': 'MX', 'fixed': True, 'global': True, 'counties': None, 'launchYear': None, 'types': ['Public']}, {'date': '2024-01-01', 'localName': 'Año Nuevo', 'name': \"New Year's Day\", 'countryCode': 'MX', 'fixed': False, 'global': True, 'counties': None, 'launchYear': None, 'types': ['Public']}, {'date': '2024-02-05', 'localName': 'Día de la Constitución', 'name': 'Constitution Day', 'countryCode': 'MX', 'fixed': False, 'global': True, 'counties': None, 'launchYear': None, 'types': ['Public']}, {'date': '2024-03-18', 'localName': 'Natalicio de Benito Juárez', 'name': \"Benito Juárez's birthday\", 'countryCode': 'MX', 'fixed': False, 'global': True, 'counties': None, 'launchYear': None, 'types': ['Public']}]\n",
      "NUMBER OF HOLIDAYS: 8\n",
      "...\n",
      "[{'date': '2023-04-06', 'localName': 'Skjærtorsdag', 'name': 'Maundy Thursday', 'countryCode': 'NO', 'fixed': False, 'global': True, 'counties': None, 'launchYear': None, 'types': ['Public']}, {'date': '2023-04-07', 'localName': 'Langfredag', 'name': 'Good Friday', 'countryCode': 'NO', 'fixed': False, 'global': True, 'counties': None, 'launchYear': None, 'types': ['Public']}, {'date': '2023-04-09', 'localName': 'Første påskedag', 'name': 'Easter Sunday', 'countryCode': 'NO', 'fixed': False, 'global': True, 'counties': None, 'launchYear': None, 'types': ['Public']}, {'date': '2023-04-10', 'localName': 'Andre påskedag', 'name': 'Easter Monday', 'countryCode': 'NO', 'fixed': False, 'global': True, 'counties': None, 'launchYear': None, 'types': ['Public']}, {'date': '2023-05-01', 'localName': 'Første mai', 'name': 'Labour Day', 'countryCode': 'NO', 'fixed': True, 'global': True, 'counties': None, 'launchYear': None, 'types': ['Public']}, {'date': '2023-05-17', 'localName': 'Syttende mai', 'name': 'Constitution Day', 'countryCode': 'NO', 'fixed': True, 'global': True, 'counties': None, 'launchYear': None, 'types': ['Public']}, {'date': '2023-05-18', 'localName': 'Kristi himmelfartsdag', 'name': 'Ascension Day', 'countryCode': 'NO', 'fixed': False, 'global': True, 'counties': None, 'launchYear': None, 'types': ['Public']}, {'date': '2023-05-28', 'localName': 'Første pinsedag', 'name': 'Pentecost', 'countryCode': 'NO', 'fixed': False, 'global': True, 'counties': None, 'launchYear': None, 'types': ['Public']}, {'date': '2023-05-29', 'localName': 'Andre pinsedag', 'name': 'Whit Monday', 'countryCode': 'NO', 'fixed': False, 'global': True, 'counties': None, 'launchYear': None, 'types': ['Public']}, {'date': '2023-12-25', 'localName': 'Første juledag', 'name': 'Christmas Day', 'countryCode': 'NO', 'fixed': True, 'global': True, 'counties': None, 'launchYear': None, 'types': ['Public']}, {'date': '2023-12-26', 'localName': 'Andre juledag', 'name': \"St. Stephen's Day\", 'countryCode': 'NO', 'fixed': True, 'global': True, 'counties': None, 'launchYear': None, 'types': ['Public']}, {'date': '2024-01-01', 'localName': 'Første nyttårsdag', 'name': \"New Year's Day\", 'countryCode': 'NO', 'fixed': True, 'global': True, 'counties': None, 'launchYear': None, 'types': ['Public']}]\n",
      "NUMBER OF HOLIDAYS: 12\n",
      "...\n",
      "[{'date': '2023-04-07', 'localName': 'Good Friday', 'name': 'Good Friday', 'countryCode': 'US', 'fixed': False, 'global': False, 'counties': ['US-CT', 'US-DE', 'US-HI', 'US-IN', 'US-KY', 'US-LA', 'US-NC', 'US-ND', 'US-NJ', 'US-TN'], 'launchYear': None, 'types': ['Public']}, {'date': '2023-05-29', 'localName': 'Memorial Day', 'name': 'Memorial Day', 'countryCode': 'US', 'fixed': False, 'global': True, 'counties': None, 'launchYear': None, 'types': ['Public']}, {'date': '2023-06-19', 'localName': 'Juneteenth', 'name': 'Juneteenth', 'countryCode': 'US', 'fixed': False, 'global': True, 'counties': None, 'launchYear': 2021, 'types': ['Public']}, {'date': '2023-07-04', 'localName': 'Independence Day', 'name': 'Independence Day', 'countryCode': 'US', 'fixed': False, 'global': True, 'counties': None, 'launchYear': None, 'types': ['Public']}, {'date': '2023-09-04', 'localName': 'Labor Day', 'name': 'Labour Day', 'countryCode': 'US', 'fixed': False, 'global': True, 'counties': None, 'launchYear': None, 'types': ['Public']}, {'date': '2023-10-09', 'localName': 'Columbus Day', 'name': 'Columbus Day', 'countryCode': 'US', 'fixed': False, 'global': False, 'counties': ['US-AL', 'US-AZ', 'US-CO', 'US-CT', 'US-GA', 'US-ID', 'US-IL', 'US-IN', 'US-IA', 'US-KS', 'US-KY', 'US-LA', 'US-ME', 'US-MD', 'US-MA', 'US-MS', 'US-MO', 'US-MT', 'US-NE', 'US-NH', 'US-NJ', 'US-NM', 'US-NY', 'US-NC', 'US-OH', 'US-OK', 'US-PA', 'US-RI', 'US-SC', 'US-TN', 'US-UT', 'US-VA', 'US-WV'], 'launchYear': None, 'types': ['Public']}, {'date': '2023-11-10', 'localName': 'Veterans Day', 'name': 'Veterans Day', 'countryCode': 'US', 'fixed': False, 'global': True, 'counties': None, 'launchYear': None, 'types': ['Public']}, {'date': '2023-11-23', 'localName': 'Thanksgiving Day', 'name': 'Thanksgiving Day', 'countryCode': 'US', 'fixed': False, 'global': True, 'counties': None, 'launchYear': 1863, 'types': ['Public']}, {'date': '2023-12-25', 'localName': 'Christmas Day', 'name': 'Christmas Day', 'countryCode': 'US', 'fixed': False, 'global': True, 'counties': None, 'launchYear': None, 'types': ['Public']}, {'date': '2024-01-01', 'localName': \"New Year's Day\", 'name': \"New Year's Day\", 'countryCode': 'US', 'fixed': False, 'global': True, 'counties': None, 'launchYear': None, 'types': ['Public']}, {'date': '2024-01-15', 'localName': 'Martin Luther King, Jr. Day', 'name': 'Martin Luther King, Jr. Day', 'countryCode': 'US', 'fixed': False, 'global': True, 'counties': None, 'launchYear': None, 'types': ['Public']}, {'date': '2024-02-19', 'localName': 'Presidents Day', 'name': \"Washington's Birthday\", 'countryCode': 'US', 'fixed': False, 'global': True, 'counties': None, 'launchYear': None, 'types': ['Public']}]\n",
      "NUMBER OF HOLIDAYS: 12\n",
      "...\n"
     ]
    }
   ],
   "source": [
    "country_codes = [\"IT\", \"EG\", \"BO\", \"BR\", \"HR\", \"HU\", \"JM\", \"MX\", \"NO\", \"US\"]\n",
    "\n",
    "for i in country_codes:\n",
    "    upcoming_holidays = requests.get(f\"https://date.nager.at/api/v3/NextPublicHolidays/{i}\")\n",
    "    \n",
    "    holidays_upcoming = upcoming_holidays.json()\n",
    "    \n",
    "    print(holidays_upcoming)\n",
    "    \n",
    "    number_holidays = len(holidays_upcoming)\n",
    "    \n",
    "    print(f\"NUMBER OF HOLIDAYS: {number_holidays}\")\n",
    "    \n",
    "    print(\"...\")\n",
    "    "
   ]
  },
  {
   "cell_type": "markdown",
   "id": "5a178743",
   "metadata": {},
   "source": [
    "# Bonus Questions"
   ]
  },
  {
   "cell_type": "code",
   "execution_count": 12,
   "id": "2186ac60",
   "metadata": {
    "collapsed": true
   },
   "outputs": [
    {
     "data": {
      "image/png": "[encoded data removed]",
      "text/plain": [
       "<Figure size 720x504 with 1 Axes>"
      ]
     },
     "metadata": {
      "needs_background": "light"
     },
     "output_type": "display_data"
    }
   ],
   "source": [
    "lat = \"42.8864\"\n",
    "lon = \"-78.8784\"\n",
    "genius = requests.get(f\"https://api.weather.gov/points/{lat},{lon}\")\n",
    "\n",
    "json_file = genius.json()\n",
    "\n",
    "forecast = json_file[\"properties\"][\"forecast\"]\n",
    "new_request = requests.get(forecast)\n",
    "\n",
    "json_1 = new_request.json()\n",
    "\n",
    "full = json_1[\"properties\"][\"periods\"]\n",
    "    \n",
    "weather_data = open(\"weather_data.csv\", \"w\", newline=\"\", encoding=\"utf-8\")\n",
    "csv_writer = csv.writer(weather_data)\n",
    "csv_writer.writerow([\"Name\", \"Temperature\", \"Detailed Forecast\"])\n",
    "\n",
    "for i in full:\n",
    "    name = i[\"name\"]\n",
    "    temp = i[\"temperature\"]\n",
    "    forecast = i[\"detailedForecast\"]\n",
    "    \n",
    "    csv_writer.writerow([name, temp, forecast])\n",
    "        \n",
    "weather_data.close()\n",
    "\n",
    "weather_sheet = pd.read_csv(\"weather_data.csv\")\n",
    "weather_sheet = weather_sheet.sort_values(by=\"Temperature\", ascending = True)\n",
    "\n",
    "weather_df = pd.DataFrame(weather_sheet)\n",
    "\n",
    "plot_name = weather_df[\"Name\"]\n",
    "plot_temp = weather_df[\"Temperature\"]\n",
    "\n",
    "fig = plt.figure(figsize = (10,7))\n",
    "plt.bar(plot_name[0:13], plot_temp[0:13])\n",
    "plt.xticks(rotation=90, ha='right')\n",
    "        \n",
    "plt.xlabel(\"Day\")\n",
    "plt.ylabel(\"Temperature\")\n",
    "plt.title(\"Forecast for the next week\")\n",
    "\n",
    "\n",
    "plt.show()\n",
    "\n",
    "#To make the x-axis labels less crowded, using https://stackoverflow.com/questions/10998621/rotate-axis-text-in-python-matplotlib\n",
    "#I found how to rotate the \"xticks,\" which allows them to not run into one another"
   ]
  },
  {
   "cell_type": "code",
   "execution_count": 13,
   "id": "b7ee98f2",
   "metadata": {
    "collapsed": true
   },
   "outputs": [
    {
     "data": {
      "image/png": "[encoded data removed]",
      "text/plain": [
       "<Figure size 720x504 with 1 Axes>"
      ]
     },
     "metadata": {
      "needs_background": "light"
     },
     "output_type": "display_data"
    }
   ],
   "source": [
    "number_holidays_data = open(\"holiday_data.csv\", \"w\", newline=\"\", encoding=\"utf-8\")\n",
    "csv_writer = csv.writer(number_holidays_data)\n",
    "csv_writer.writerow([\"Name\", \"Number of Holidays\"])\n",
    "\n",
    "country_codes = [\"IT\", \"EG\", \"BO\", \"BR\", \"HR\", \"HU\", \"JM\", \"MX\", \"NO\", \"US\"]\n",
    "\n",
    "for i in country_codes:\n",
    "    upcoming_holidays = requests.get(f\"https://date.nager.at/api/v3/NextPublicHolidays/{i}\")\n",
    "    \n",
    "    holidays_upcoming = upcoming_holidays.json()\n",
    "    \n",
    "    name = i\n",
    "    \n",
    "    number_holidays = len(holidays_upcoming)\n",
    "    \n",
    "    csv_writer.writerow([name, number_holidays])\n",
    "    \n",
    "number_holidays_data.close()\n",
    "\n",
    "holiday_sheet = pd.read_csv(\"holiday_data.csv\")\n",
    "holiday_sheet = holiday_sheet.sort_values(by = \"Number of Holidays\", ascending = True)\n",
    "\n",
    "holiday_df = pd.DataFrame(holiday_sheet)\n",
    "\n",
    "plot2_name = holiday_df[\"Name\"]\n",
    "plot2_number = holiday_df[\"Number of Holidays\"]\n",
    "\n",
    "fig = plt.figure(figsize = (10,7))\n",
    "plt.bar(plot2_name[0:9], plot2_number[0:9])\n",
    "\n",
    "plt.xlabel(\"Name\")\n",
    "plt.ylabel(\"Number of Holidays\")\n",
    "plt.title(\"Number of holidays in different countries in the next year\")\n",
    "\n",
    "\n",
    "plt.show()"
   ]
  }
 ],
 "metadata": {
  "kernelspec": {
   "display_name": "Python 3 (ipykernel)",
   "language": "python",
   "name": "python3"
  },
  "language_info": {
   "codemirror_mode": {
    "name": "ipython",
    "version": 3
   },
   "file_extension": ".py",
   "mimetype": "text/x-python",
   "name": "python",
   "nbconvert_exporter": "python",
   "pygments_lexer": "ipython3",
   "version": "3.9.12"
  }
 },
 "nbformat": 4,
 "nbformat_minor": 5
}
