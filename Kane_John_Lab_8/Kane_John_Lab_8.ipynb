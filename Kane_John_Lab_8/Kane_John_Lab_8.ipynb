{
 "cells": [
  {
   "cell_type": "markdown",
   "id": "ba4eaf24",
   "metadata": {},
   "source": [
    "# Lab 8"
   ]
  },
  {
   "cell_type": "markdown",
   "id": "478c2b94",
   "metadata": {},
   "source": [
    "# OMDB API"
   ]
  },
  {
   "cell_type": "code",
   "execution_count": 1,
   "id": "d39e1fc1",
   "metadata": {
    "collapsed": true
   },
   "outputs": [
    {
     "data": {
      "text/plain": [
       "{'Title': 'A League of Their Own',\n",
       " 'Year': '2022–',\n",
       " 'Rated': 'N/A',\n",
       " 'Released': '12 Aug 2022',\n",
       " 'Runtime': '1 min',\n",
       " 'Genre': 'Comedy, Drama, Sport',\n",
       " 'Director': 'N/A',\n",
       " 'Writer': 'Will Graham, Abbi Jacobson',\n",
       " 'Actors': \"Abbi Jacobson, Chanté Adams, D'Arcy Carden\",\n",
       " 'Plot': \"Comedy series about the WWII All-American professional women's baseball league.\",\n",
       " 'Language': 'English',\n",
       " 'Country': 'United States',\n",
       " 'Awards': '6 nominations',\n",
       " 'Poster': 'https://m.media-amazon.com/images/M/MV5BZDI2MjFjYzItODhlNC00NDkxLTljNGItYjU3NjE4ZGNmZmE1XkEyXkFqcGdeQXVyMjkwOTAyMDU@._V1_SX300.jpg',\n",
       " 'Ratings': [{'Source': 'Internet Movie Database', 'Value': '7.5/10'}],\n",
       " 'Metascore': 'N/A',\n",
       " 'imdbRating': '7.5',\n",
       " 'imdbVotes': '22,952',\n",
       " 'imdbID': 'tt8226360',\n",
       " 'Type': 'series',\n",
       " 'totalSeasons': '1',\n",
       " 'Response': 'True'}"
      ]
     },
     "execution_count": 1,
     "metadata": {},
     "output_type": "execute_result"
    }
   ],
   "source": [
    "import requests \n",
    "import json\n",
    "\n",
    "movie_key = \"53566d53\"\n",
    "#f\"http://www.omdbapi.com/?apikey={movie_key}\"\n",
    "\n",
    "#Find the number and title of episodes for Breaking Bad, Season 2\n",
    "\n",
    "breaking_bad = f\"http://www.omdbapi.com/?apikey={movie_key}&t=Breaking Bad&Season=2\"\n",
    "\n",
    "breaking_data = requests.get(breaking_bad)\n",
    "breaking_data.json()\n",
    "\n",
    "#Finding information and a SHORT plot for The Dark Knight. Also gives the option of finding a full plot\n",
    "\n",
    "dark_knight = f\"http://www.omdbapi.com/?apikey={movie_key}&t=The Dark Knight&plot=short\"\n",
    "dark_knight_data = requests.get(dark_knight)\n",
    "\n",
    "dark_knight_data.json()\n",
    "\n",
    "#Finding an episode within a season of Yellowstone\n",
    "\n",
    "yellowstone_episode = f\"http://www.omdbapi.com/?apikey={movie_key}&t=Yellowstone&Season=4&Episode=2\"\n",
    "yellowstone_data = requests.get(yellowstone_episode)\n",
    "\n",
    "yellowstone_data.json()\n",
    "\n",
    "#Differentiating between two movies with the same name by using the year call\n",
    "\n",
    "crash_1996 = f\"http://www.omdbapi.com/?apikey={movie_key}&t=Crash&y=1996\"\n",
    "crash_1996_data = requests.get(crash_1996)\n",
    "\n",
    "crash_1996_data.json()\n",
    "\n",
    "crash_2004 = f\"http://www.omdbapi.com/?apikey={movie_key}&t=Crash&y=2004\"\n",
    "crash_2004_data = requests.get(crash_2004)\n",
    "\n",
    "crash_2004_data.json()\n",
    "\n",
    "#Differentiating between a movie and show with the same title using the type call\n",
    "\n",
    "league_movie = crash_1996 = f\"http://www.omdbapi.com/?apikey={movie_key}&t=A League of Their Own&type=movie\"\n",
    "league_movie_data = requests.get(league_movie)\n",
    "\n",
    "league_movie_data.json()\n",
    "\n",
    "league_show = f\"http://www.omdbapi.com/?apikey={movie_key}&t=A League of Their Own&type=series\"\n",
    "league_show_data = requests.get(league_show)\n",
    "\n",
    "league_show_data.json()\n"
   ]
  },
  {
   "cell_type": "code",
   "execution_count": 3,
   "id": "97dfeb21",
   "metadata": {},
   "outputs": [
    {
     "name": "stdout",
     "output_type": "stream",
     "text": [
      "Plan and Execution\n",
      "9.9\n",
      "Point and Shoot\n",
      "9.7\n",
      "Waterworks\n",
      "9.5\n",
      "Saul Gone\n",
      "9.8\n"
     ]
    }
   ],
   "source": [
    "#Season 6 of Beter Call Saul is known to be one of the best seasons of television in quite some time. The following is\n",
    "#a program to filter the best episodes of the season by seeing which have an imdb rating of 9.5 or higher \n",
    "\n",
    "import csv\n",
    "\n",
    "saul_season6 = open(\"saul_season6.csv\", \"w\", newline=\"\", encoding=\"utf-8\")\n",
    "csv_writer = csv.writer(saul_season6)\n",
    "csv_writer.writerow([\"Episode Title\", \"IMDB Rating\"])\n",
    " \n",
    "better_call_saul = f\"http://www.omdbapi.com/?apikey={movie_key}&t=Better Call Saul&Season=6\"\n",
    "\n",
    "saul_data = requests.get(better_call_saul)\n",
    "saul_json = saul_data.json()\n",
    "\n",
    "episodes = saul_json[\"Episodes\"]\n",
    "\n",
    "for i in episodes:\n",
    "    if i[\"imdbRating\"] == \"9.5\" or i[\"imdbRating\"] == \"9.6\" or i[\"imdbRating\"] == \"9.7\" or i[\"imdbRating\"] == \"9.8\" or i[\"imdbRating\"] == \"9.9\":\n",
    "        title = i[\"Title\"]\n",
    "        print(title)\n",
    "        rating = i[\"imdbRating\"]\n",
    "        print(rating)\n",
    "    else:\n",
    "        pass\n",
    "    \n",
    "    csv_writer.writerow([title, rating])\n",
    "        \n",
    "saul_season6.close()"
   ]
  },
  {
   "cell_type": "markdown",
   "id": "2a4a6b39",
   "metadata": {},
   "source": [
    "Being someone who is very interested in television, especially from a review standpoint, I am always looking for the best rated episodes on imdb. And while these episodes can be found, it takes quite a lot of digging and there is really no easy or efficient way of doing this. Using this omdb API, I would like to create a program which runs through television series, and shows the top rated episodes, in order to give a comprehensive and easy to view list of the top imdb rated television episodes of different series. And while I was able to do this for a singular season of Better Call Saul, I am unsure what efficient method I would have to use to go through many more shows with the API, and pull their top rated episodes, but I certainly think it would be something that would benefit a great many people. "
   ]
  }
 ],
 "metadata": {
  "kernelspec": {
   "display_name": "Python 3 (ipykernel)",
   "language": "python",
   "name": "python3"
  },
  "language_info": {
   "codemirror_mode": {
    "name": "ipython",
    "version": 3
   },
   "file_extension": ".py",
   "mimetype": "text/x-python",
   "name": "python",
   "nbconvert_exporter": "python",
   "pygments_lexer": "ipython3",
   "version": "3.9.12"
  }
 },
 "nbformat": 4,
 "nbformat_minor": 5
}
