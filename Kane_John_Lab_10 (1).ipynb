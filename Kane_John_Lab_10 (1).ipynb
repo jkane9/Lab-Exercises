{
 "cells": [
  {
   "cell_type": "markdown",
   "id": "7417bb46",
   "metadata": {},
   "source": [
    "# Lab 10"
   ]
  },
  {
   "cell_type": "markdown",
   "id": "6c4aa950",
   "metadata": {},
   "source": [
    "GUI #1"
   ]
  },
  {
   "cell_type": "code",
   "execution_count": 4,
   "id": "fc6c0208",
   "metadata": {},
   "outputs": [],
   "source": [
    "import requests\n",
    "import json\n",
    "import random\n",
    "from tkinter import *\n",
    "\n",
    "root = Tk()\n",
    "root.title(\"Randomly Chosen quotes\")\n",
    "root.geometry(\"400x400\")\n",
    "\n",
    "authors_list1 = []\n",
    "\n",
    "for i in range(41):\n",
    "    pages = requests.get(f\"https://api.quotable.io/quotes?page={i}\")\n",
    "    authors_dict = pages.json()[\"results\"]\n",
    "    for i in range(20):\n",
    "        author_name = authors_dict[i][\"author\"]\n",
    "        authors_list1.append(author_name)\n",
    "\n",
    "authors_list = [*set(authors_list1)]\n",
    "\n",
    "random_authors = random.choices(authors_list, k=6)\n",
    "    \n",
    "def chosen_option():\n",
    "    author_chosen = value.get()\n",
    "    quote1.delete(0.0,END)\n",
    "    quote = requests.get(f\"https://api.quotable.io/random?author={author_chosen}\")\n",
    "    iso_quote = quote.json()[\"content\"]\n",
    "    quote1.insert(END,iso_quote)\n",
    "\n",
    "value = StringVar()\n",
    "value.set(\"Select an Author\")\n",
    "    \n",
    "dropdown = OptionMenu(root, value, *random_authors)\n",
    "choose_button = Button(root, text=\"Click to choose\", command=chosen_option)\n",
    "quote1= Text(root, padx = 40, pady = 60, bg = \"light blue\")\n",
    "\n",
    "dropdown.pack()\n",
    "choose_button.pack()\n",
    "quote1.pack()\n",
    "\n",
    "root.mainloop()"
   ]
  },
  {
   "cell_type": "markdown",
   "id": "5408f38f",
   "metadata": {},
   "source": [
    "GUI #2"
   ]
  },
  {
   "cell_type": "code",
   "execution_count": 3,
   "id": "6bae7bad",
   "metadata": {},
   "outputs": [],
   "source": [
    "root = Tk()\n",
    "root.title(\"7 Day Forecast\")\n",
    "\n",
    "lat = \"42.8864\"\n",
    "lon = \"-78.8784\"\n",
    "genius = requests.get(f\"https://api.weather.gov/points/{lat},{lon}\")\n",
    "weather_json = genius.json()\n",
    "forecast = weather_json[\"properties\"][\"forecast\"]\n",
    "new_request = requests.get(forecast)\n",
    "json_1 = new_request.json()\n",
    "full = json_1[\"properties\"][\"periods\"]\n",
    "\n",
    "period_list = []\n",
    "temp_list = []\n",
    "detail_list = []\n",
    "\n",
    "for i in full:\n",
    "    period_list.append(i[\"name\"])\n",
    "    temp_list.append(i[\"temperature\"])\n",
    "    detail_list.append(i[\"detailedForecast\"])\n",
    "    \n",
    "for i in range(14):\n",
    "    weather_time = Label(root, text = str(period_list[i]),pady=15, padx=15, font=(\"Helvetica\", 10))\n",
    "    weather_time.grid(row=i,column=0)\n",
    "    temp_disp = Label(root, text = str(temp_list[i]), font=(\"Helvetica\", 10))\n",
    "    temp_disp.grid(row=i,column=2)\n",
    "    detail_disp = Label(root, text = str(detail_list[i]), font=(\"Helvetica\", 10))\n",
    "    detail_disp.grid(row=i,column=4)\n",
    "    message = Message(root, text = \"These results come from the National Weather Service API\", font = (\"Times\", 8))\n",
    "    message.grid(row=17,column=0, columnspan=4)\n",
    "    #Message widget above allows the user to insert a message into the GUI, in this case I added a footnote explaining\n",
    "    #where the weather information came from\n",
    "    root.configure(bg = \"light blue\")\n",
    "\n",
    "root.mainloop()"
   ]
  }
 ],
 "metadata": {
  "kernelspec": {
   "display_name": "Python 3 (ipykernel)",
   "language": "python",
   "name": "python3"
  },
  "language_info": {
   "codemirror_mode": {
    "name": "ipython",
    "version": 3
   },
   "file_extension": ".py",
   "mimetype": "text/x-python",
   "name": "python",
   "nbconvert_exporter": "python",
   "pygments_lexer": "ipython3",
   "version": "3.9.12"
  }
 },
 "nbformat": 4,
 "nbformat_minor": 5
}
