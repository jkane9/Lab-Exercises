{
 "cells": [
  {
   "cell_type": "markdown",
   "id": "778d18f0",
   "metadata": {},
   "source": [
    "# Lab 1"
   ]
  },
  {
   "cell_type": "markdown",
   "id": "e759ce10",
   "metadata": {},
   "source": [
    "# Question 1"
   ]
  },
  {
   "cell_type": "code",
   "execution_count": 6,
   "id": "2a56e3a2",
   "metadata": {},
   "outputs": [
    {
     "data": {
      "text/plain": [
       "'chestnut'"
      ]
     },
     "execution_count": 6,
     "metadata": {},
     "output_type": "execute_result"
    }
   ],
   "source": [
    "list1 = [\"apple\", \"chestnut\", \"gargoyle\", \"pandas\", \"sheep\", \"raptor\"]\n",
    "\n",
    "def longest(list1):    \n",
    "    for i in list1:\n",
    "        longest_word = list1[0]\n",
    "        if len(i) > len(longest_word):\n",
    "            longest_word = i\n",
    "            return i\n",
    "        else:\n",
    "            pass\n",
    "           \n",
    "longest(list1)"
   ]
  },
  {
   "cell_type": "markdown",
   "id": "238e28ad",
   "metadata": {},
   "source": [
    "# Question 2"
   ]
  },
  {
   "cell_type": "code",
   "execution_count": 1,
   "id": "40570fa9",
   "metadata": {},
   "outputs": [
    {
     "name": "stdout",
     "output_type": "stream",
     "text": [
      "['disturn', 'gyromagnetic', 'bumbaste', 'beguilement', 'proferment', 'brotulid', 'deforciant']\n"
     ]
    },
    {
     "data": {
      "text/plain": [
       "'gyromagnetic'"
      ]
     },
     "execution_count": 1,
     "metadata": {},
     "output_type": "execute_result"
    }
   ],
   "source": [
    "import pandas as pd\n",
    "import random\n",
    "words = pd.read_csv(\"wordlist.txt\")\n",
    "\n",
    "words_list = words[\"resink\"].tolist()\n",
    "\n",
    "random_list = random.choices(words_list, k = 7)\n",
    "\n",
    "def longest(list1):   \n",
    "    for i in list1:\n",
    "        longest_word = list1[0]\n",
    "        if len(i) > len(longest_word):\n",
    "            print(list1)\n",
    "            longest_word = i\n",
    "            return i\n",
    "        else:\n",
    "            pass\n",
    "         \n",
    "longest(random_list)"
   ]
  },
  {
   "cell_type": "markdown",
   "id": "03a42236",
   "metadata": {},
   "source": [
    "# Question 3"
   ]
  },
  {
   "cell_type": "code",
   "execution_count": 31,
   "id": "25c958a7",
   "metadata": {},
   "outputs": [
    {
     "name": "stdout",
     "output_type": "stream",
     "text": [
      "5\n",
      " \n",
      "{'Steak': 15, 'Potatos': 6, 'Hot Sauce': 5, 'Bananas': 3, 'Yogurt': 4, 'Lettuce': 5, 'Chips': 6, 'Almonds': 8, 'Cookies': 5}\n",
      " \n",
      "{'Steak': 15, 'Potatos': 6, 'Hot Sauce': 5, 'Bananas': 3, 'Yogurt': 4, 'Lettuce': 5, 'Chips': 6, 'Almonds': 8, 'Cookies': 5, 'Crutons': 4}\n",
      " \n",
      "{}\n"
     ]
    }
   ],
   "source": [
    "#You are going grocery shopping and need to get some specific items\n",
    "\n",
    "grocery_dict = {\"Steak\": 15, \"Potatos\": 6, \"Hot Sauce\": 5, \"Bananas\": 3, \"Yogurt\": 4,\n",
    "               \"Lettuce\": 5, \"Ham\": 10, \"Chips\": 6, \"Almonds\": 8, \"Cookies\": 5}\n",
    "\n",
    "#Passing the produce section, need to get the price of lettuce\n",
    "\n",
    "print(grocery_dict.get(\"Lettuce\"))\n",
    "print(\" \")  #This is just for spacing purposes\n",
    "\n",
    "#You are doing a steak dinner, so you don't need ham anymore and can remove it from the shopping list\n",
    "\n",
    "grocery_dict.pop(\"Ham\")\n",
    "print(grocery_dict)\n",
    "print(\" \")\n",
    "\n",
    "#you need Crutons for the salad! Have to add it to the list\n",
    "\n",
    "grocery_dict.update({\"Crutons\": 4})\n",
    "print(grocery_dict)\n",
    "print(\" \")\n",
    "\n",
    "#All done with shopping, you can now delete everything from the grocery list\n",
    "\n",
    "grocery_dict.clear()\n",
    "print(grocery_dict)\n"
   ]
  },
  {
   "cell_type": "markdown",
   "id": "f6998533",
   "metadata": {},
   "source": [
    "# Question 4"
   ]
  },
  {
   "cell_type": "markdown",
   "id": "fb83ba0b",
   "metadata": {},
   "source": [
    "For question 4, I decided to choose the OOP that created a system to manage a student's school record. For this I wanted to start with a defining variable for the student, so I chose last name. I then included the 4 major subjects, and using those grades, that would be inserted into the transcript function, it would also produce a gpa value. For additional information, I made an extra-ciriculars function, that would tell what organizations/sports(inserted as a list) the sudent is a part of."
   ]
  },
  {
   "cell_type": "code",
   "execution_count": 1,
   "id": "94d9f60c",
   "metadata": {},
   "outputs": [
    {
     "name": "stdout",
     "output_type": "stream",
     "text": [
      "Kane's (Junior) grade for Math is 95\n",
      "Kane's (Junior) grade for Science is 88\n",
      "Kane's (Junior) grade for English is 91\n",
      "Kane's (Junior) grade for History is 99\n",
      "Kane's (Junior) gpa is 93.25\n",
      "Kane is a member of ['Track and Field', 'Soccer', 'Math Club', 'National Honor Society']\n"
     ]
    }
   ],
   "source": [
    "class Student:\n",
    "    def __init__(self, last_name, grade_level, ext_circ):\n",
    "        self.name = last_name\n",
    "        self.standing = grade_level\n",
    "        self.extra = ext_circ\n",
    "        \n",
    "    def transcript(self, math, science, english, history):\n",
    "        print(f\"{self.name}'s ({self.standing}) grade for Math is {math}\")\n",
    "        print(f\"{self.name}'s ({self.standing}) grade for Science is {science}\")\n",
    "        print(f\"{self.name}'s ({self.standing}) grade for English is {english}\")        \n",
    "        print(f\"{self.name}'s ({self.standing}) grade for History is {history}\")\n",
    "        \n",
    "        gpa = (math + science + english + history)/4\n",
    "        print(f\"{self.name}'s ({self.standing}) gpa is {gpa}\")\n",
    "        \n",
    "    def extras_list(self):\n",
    "        print(f\"{self.name} is a member of {self.extra}\")\n",
    "        \n",
    "student_1 = Student(\"Kane\", \"Junior\", [\"Track and Field\", \"Soccer\", \"Math Club\", \"National Honor Society\"])\n",
    "student_1.transcript(95, 88, 91, 99)\n",
    "student_1.extras_list()"
   ]
  },
  {
   "cell_type": "markdown",
   "id": "6120e071",
   "metadata": {},
   "source": [
    "# Question 5"
   ]
  },
  {
   "cell_type": "markdown",
   "id": "75d3f9e0",
   "metadata": {},
   "source": [
    "This hangman question was defintely a great exercise to refresh me on some essential python tools. This started with a strong refresher on the usefuleness of for and while loops. The for loop that I used allowed the chosen word to be indexed through and looked at in its' individual letters. The while loop also really aided in being the anchor of the game, as if the user were to not get the correct word in enough tries, this loop ended the game. The conditional statements then allowed the user to understand if a letter was correct and if so, where in the word it was."
   ]
  },
  {
   "cell_type": "code",
   "execution_count": 1,
   "id": "602a13fc",
   "metadata": {},
   "outputs": [
    {
     "name": "stdout",
     "output_type": "stream",
     "text": [
      "Welome to hangman, the word you are looking for is 5 letters long\n",
      "Guess a letter c\n",
      "Correct, there is 1 in the word.\n",
      "This is letter number 1 in the word\n",
      "Guess a letter n\n",
      "Correct, there is 1 in the word.\n",
      "This is letter number 3 in the word\n",
      "Guess a letter a\n",
      "Correct, there is 1 in the word.\n",
      "This is letter number 2 in the word\n",
      "Guess a letter d\n",
      "Correct, there is 1 in the word.\n",
      "This is letter number 4 in the word\n",
      "Guess a letter y\n",
      "Correct, there is 1 in the word.\n",
      "This is letter number 5 in the word\n",
      "You have won the game!\n"
     ]
    }
   ],
   "source": [
    "word = \"candy\"\n",
    "correct_list = []\n",
    "lives = 6\n",
    "\n",
    "for i in word:\n",
    "    correct_list.append(i)\n",
    "\n",
    "print(\"Welome to hangman, the word you are looking for is 5 letters long\")   \n",
    "    \n",
    "while lives != 0:\n",
    "    guess = input(\"Guess a letter \")\n",
    "        \n",
    "    if guess in correct_list:\n",
    "        print(f\"Correct, there is {correct_list.count(guess)} in the word.\")\n",
    "        print(f\"This is letter number {word.rfind(guess) + 1} in the word\")      #I got the idea to use the rfind() function\n",
    "        correct_list.remove(guess)                                               #from geeksforgeeks.org\n",
    "\n",
    "    else:\n",
    "        print(f\"Incorrect, there are no {guess}'s in the word\")\n",
    "        lives -= 1\n",
    "\n",
    "    if correct_list == []:\n",
    "        print(\"You have won the game!\")\n",
    "        break\n",
    "\n",
    "    elif lives == 0:\n",
    "        print(\"Oh no, you have lost the game.\")\n",
    "        print(f\"The correct word was {word}\")"
   ]
  }
 ],
 "metadata": {
  "kernelspec": {
   "display_name": "Python 3 (ipykernel)",
   "language": "python",
   "name": "python3"
  },
  "language_info": {
   "codemirror_mode": {
    "name": "ipython",
    "version": 3
   },
   "file_extension": ".py",
   "mimetype": "text/x-python",
   "name": "python",
   "nbconvert_exporter": "python",
   "pygments_lexer": "ipython3",
   "version": "3.9.12"
  }
 },
 "nbformat": 4,
 "nbformat_minor": 5
}
